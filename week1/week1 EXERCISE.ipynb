{
 "cells": [
  {
   "cell_type": "markdown",
   "id": "fe12c203-e6a6-452c-a655-afb8a03a4ff5",
   "metadata": {},
   "source": [
    "# End of week 1 exercise\n",
    "\n",
    "To demonstrate your familiarity with OpenAI API, and also Ollama, build a tool that takes a technical question,  \n",
    "and responds with an explanation. This is a tool that you will be able to use yourself during the course!"
   ]
  },
  {
   "cell_type": "code",
   "execution_count": 4,
   "id": "c1070317-3ed9-4659-abe3-828943230e03",
   "metadata": {},
   "outputs": [],
   "source": [
    "import anthropic\n",
    "from openai import OpenAI\n",
    "from IPython.display import Markdown, display, update_display\n",
    "import ollama\n",
    " "
   ]
  },
  {
   "cell_type": "code",
   "execution_count": 6,
   "id": "4a456906-915a-4bfd-bb9d-57e505c5093f",
   "metadata": {},
   "outputs": [],
   "source": [
    "MODEL_ANTHROPIC = \"claude-3-haiku-20240307\"\n",
    "MODEL_GPT = \"gpt-4o-mini\"\n",
    "MODEL_LLAMA = \"llama3.2\"\n",
    "MAX_TOKENS = 1024"
   ]
  },
  {
   "cell_type": "code",
   "execution_count": 7,
   "id": "a8d7923c-5f28-4c30-8556-342d7c8497c1",
   "metadata": {},
   "outputs": [],
   "source": [
    "# Environment is set using flake.nix"
   ]
  },
  {
   "cell_type": "code",
   "execution_count": 29,
   "id": "3f0d0137-52b0-47a8-81a8-11a90a010798",
   "metadata": {},
   "outputs": [],
   "source": [
    "system_prompt = \"\"\"\n",
    "You are an expert code reviewer specialized in python language.\n",
    "You'll receive python code and explain it in simple but comprehensive terms.\n",
    "You'll receive python code and review it for proposing better practices, suggest improvements in terms of readability and/or efficiency.\n",
    "User markdown syntax for the output response.\n",
    "\"\"\"\n",
    "\n",
    "question = \"\"\"\n",
    "Please explain what this code does and why:\n",
    "yield from {book.get(\"author\") for book in books if book.get(\"author\")}\n",
    "\"\"\""
   ]
  },
  {
   "cell_type": "code",
   "execution_count": 30,
   "id": "70dcfd01-313b-4a31-9c86-34874426ea4b",
   "metadata": {
    "scrolled": true
   },
   "outputs": [
    {
     "data": {
      "text/markdown": [
       "The code you provided is a Python generator expression that extracts the unique authors from a list of books.\n",
       "\n",
       "Here's a breakdown of the code:\n",
       "\n",
       "```python\n",
       "yield from {book.get(\"author\") for book in books if book.get(\"author\")}\n",
       "```\n",
       "\n",
       "1. `{book.get(\"author\") for book in books if book.get(\"author\")}`: This part is a set comprehension. It creates a set of unique author names from the `books` list. The `book.get(\"author\")` expression retrieves the \"author\" key from each book dictionary, and the `if book.get(\"author\")` condition ensures that only books with an author value are included.\n",
       "\n",
       "2. `yield from`: This part is a generator expression syntax. The `yield from` statement is used to delegate the generation of values to another generator. In this case, it's yielding the values from the set created in the previous step, one by one.\n",
       "\n",
       "The purpose of this code is to efficiently generate a sequence of unique author names from the `books` list. The use of a generator expression (instead of a regular list) allows the authors to be generated one at a time, which can be more memory-efficient when dealing with large datasets.\n",
       "\n",
       "This code could be used, for example, in a function that needs to provide a list of unique authors from a collection of books.\n",
       "\n",
       "Here's an example of how this code could be used:\n",
       "\n",
       "```python\n",
       "def get_unique_authors(books):\n",
       "    return list(yield from {book.get(\"author\") for book in books if book.get(\"author\")})\n",
       "\n",
       "# Example usage\n",
       "books = [\n",
       "    {\"title\": \"Book 1\", \"author\": \"John Doe\"},\n",
       "    {\"title\": \"Book 2\", \"author\": \"Jane Smith\"},\n",
       "    {\"title\": \"Book 3\", \"author\": \"John Doe\"},\n",
       "    {\"title\": \"Book 4\", \"author\": None},\n",
       "]\n",
       "\n",
       "unique_authors = get_unique_authors(books)\n",
       "print(unique_authors)  # Output: ['John Doe', 'Jane Smith']\n",
       "```\n",
       "\n",
       "In this example, the `get_unique_authors` function uses the generator expression to extract the unique authors, and the `yield from` statement to yield the values one by one. The resulting generator is then converted to a list using the `list()` function."
      ],
      "text/plain": [
       "<IPython.core.display.Markdown object>"
      ]
     },
     "execution_count": 30,
     "metadata": {},
     "output_type": "execute_result"
    }
   ],
   "source": [
    "# Get anthropic to answer\n",
    "_anthropic = anthropic.Client()\n",
    "\n",
    "messages = [\n",
    "    {\"role\": \"user\", \"content\": question}\n",
    "]\n",
    "\n",
    "response = _anthropic.messages.create(\n",
    "    model=MODEL_ANTHROPIC,\n",
    "    max_tokens=MAX_TOKENS,\n",
    "    system=system_prompt,\n",
    "    messages=messages\n",
    ")\n",
    "\n",
    "Markdown(response.content[0].text)"
   ]
  },
  {
   "cell_type": "code",
   "execution_count": 31,
   "id": "60ce7000-a4a5-4cce-a261-e75ef45063b4",
   "metadata": {
    "scrolled": true
   },
   "outputs": [
    {
     "data": {
      "text/markdown": [
       "The provided line of code is a generator expression that yields authors from a collection of books, specifically filtering out any books that do not have an author specified. Let's break it down step by step:\n",
       "\n",
       "### Explanation:\n",
       "\n",
       "1. **`{book.get(\"author\") for book in books if book.get(\"author\")}`**:\n",
       "   - This part is a set comprehension. It's creating a set of authors extracted from a list or collection called `books`.\n",
       "   - `book.get(\"author\")` retrieves the value associated with the key `\"author\"` for each `book` in `books`.\n",
       "   - The `if` condition ensures that only books with a defined `author` are considered. If a book does not have an author (i.e., `None` or not present), it is skipped.\n",
       "\n",
       "2. **`yield from`**:\n",
       "   - This part of the code is used to yield values from a generator. It effectively delegates the yielding of values to the set comprehension, allowing these values to be returned one by one from the function that contains this line.\n",
       "   - `yield from` is especially useful for yielding values from another iterable without the need for an explicit loop.\n",
       "\n",
       "### What the Code Does:\n",
       "- This line of code yields from a set of unique authors found in the `books` collection. Any books that do not have an author will be excluded, ensuring that all yielded authors are defined.\n",
       "\n",
       "### Use Case:\n",
       "- This could be used in a function that collects and processes unique authors from a large collection of books, maybe to list them or do further processing on them.\n",
       "\n",
       "### Suggestions for Improvement:\n",
       "The code is fairly concise and achieves its purpose, but there are a couple of aspects that could enhance readability and maintainability:\n",
       "\n",
       "1. **Use a List Comprehension if Duplicates Are Needed**: If the requirement is to consider multiple instances of the same author, then a list comprehension (or generator expression) would be more appropriate than a set comprehension. A list can include duplicates and retains the order of appearance.\n",
       "\n",
       "2. **Add Comments**: Consider adding comments to clarify the intention of the code. This will help other developers (or your future self) better understand the purpose of the line.\n",
       "\n",
       "3. **Function Context**: If this line is used inside a function, naming the function meaningfully and accompanying it with a docstring explaining its functionality would improve clarity.\n",
       "\n",
       "Here's a refactored version considering readability:\n",
       "\n",
       "python\n",
       "def yield_authors(books):\n",
       "    \"\"\"\n",
       "    Yield unique authors from the provided list of books.\n",
       "    \n",
       "    Args:\n",
       "        books (list): A list of dictionaries containing book information.\n",
       "    \n",
       "    Yields:\n",
       "        The unique authors from the books.\n",
       "    \"\"\"\n",
       "    unique_authors = {book.get(\"author\") for book in books if book.get(\"author\")}\n",
       "    yield from unique_authors\n",
       "\n",
       "\n",
       "### Conclusion:\n",
       "The original line of code effectively yields unique authors from the book list, but providing additional context and ensuring it fits the specific use case will improve its usefulness in a broader codebase."
      ],
      "text/plain": [
       "<IPython.core.display.Markdown object>"
      ]
     },
     "metadata": {},
     "output_type": "display_data"
    }
   ],
   "source": [
    "# Get gpt-4o-mini to answer, with streaming\n",
    "openai = OpenAI()\n",
    "\n",
    "messages = [\n",
    "    {\"role\": \"system\", \"content\": system_prompt},\n",
    "    {\"role\": \"user\", \"content\": question}\n",
    "]\n",
    "\n",
    "stream = openai.chat.completions.create(\n",
    "    model=MODEL_GPT,\n",
    "    messages=messages,\n",
    "    stream=True\n",
    ")\n",
    "    \n",
    "response = \"\"\n",
    "display_handle = display(Markdown(\"\"), display_id=True)\n",
    "for chunk in stream:\n",
    "    response += chunk.choices[0].delta.content or ''\n",
    "    response = response.replace(\"```\",\"\").replace(\"markdown\", \"\")\n",
    "    update_display(Markdown(response), display_id=display_handle.display_id)"
   ]
  },
  {
   "cell_type": "code",
   "execution_count": 32,
   "id": "8f7c8ea8-4082-4ad0-8751-3301adcf6538",
   "metadata": {
    "scrolled": true
   },
   "outputs": [
    {
     "data": {
      "text/markdown": [
       "**Code Explanation**\n",
       "\n",
       "# Code Description\n",
       "\n",
       "\n",
       "This line of code uses Python's generator feature to iterate over a list of book dictionaries, filtering out any authors that don't exist. It's using the `yield from` syntax, introduced in Python 3.3, which allows us to delegate iteration to another iterable.\n",
       "\n",
       "Here's what happens step by step:\n",
       "\n",
       "1. `{book.get(\"author\") for book in books if book.get(\"author\")}`: This is a generator expression that creates an iterator over the authors of each book.\n",
       "2. `yield from`: This keyword tells Python to delegate the iteration to the previous part of the expression.\n",
       "\n",
       "**Code Breakdown**\n",
       "python\n",
       "# Importing necessary modules (none needed for this snippet)\n",
       "import pandas as pd  # Assuming 'books' is a pandas DataFrame\n",
       "\n",
       "# Sample data\n",
       "books = pd.DataFrame({\n",
       "    \"book_id\": [1, 2, 3],\n",
       "    \"title\": [\"Book A\", \"Book B\", \"Book C\"],\n",
       "    \"author\": [\"Author X\", None, \"Author Y\"]  # Missing author for Book B\n",
       "})\n",
       "\n",
       "# Filter books with existing authors and yield them as a sequence of authors\n",
       "yield from {book.get(\"author\") for book in books if book.get(\"author\")}\n",
       "\n",
       "\n",
       "In this example, `books` is a pandas DataFrame containing information about various books. The line iterates over each row (`book`) in the DataFrame:\n",
       "\n",
       "*   If a book has an author (i.e., `\"author\"` exists), it yields that author.\n",
       "*   If a book is missing an author, it skips it.\n",
       "\n",
       "To use this generator outside of its context, you would need to assign it to a variable or process the result more explicitly. Here's an updated code snippet demonstrating this:\n",
       "\n",
       "python\n",
       "# Example usage:\n",
       "books_with_authors = list(yield from {book.get(\"author\") for book in books if book.get(\"author\")})\n",
       "\n",
       "print(books_with_authors)  # Output: ['Author X', 'Author Y']\n",
       "\n",
       "\n",
       "However, using `list(x)` on a generator can be inefficient since it first requires the entire sequence be generated before being stored.\n",
       "\n",
       "In general, use cases like this typically involve iterating over an iterable (e.g., files, books), filtering or mapping its elements, and then processing those results individually. In such situations, working directly with iterators is often more efficient than creating intermediate sequences to store the processed data."
      ],
      "text/plain": [
       "<IPython.core.display.Markdown object>"
      ]
     },
     "metadata": {},
     "output_type": "display_data"
    }
   ],
   "source": [
    "# Get Llama 3.2 to answer, with streaming\n",
    "\n",
    "ollama = OpenAI(base_url='http://localhost:11434/v1', api_key='ollama')\n",
    "\n",
    "messages = [\n",
    "    {\"role\": \"system\", \"content\": system_prompt},\n",
    "    {\"role\": \"user\", \"content\": question}\n",
    "]\n",
    "\n",
    "stream = ollama.chat.completions.create(\n",
    "    model=MODEL_LLAMA,\n",
    "    messages=messages,\n",
    "    stream=True\n",
    ")\n",
    "\n",
    "response = \"\"\n",
    "display_handle = display(Markdown(\"\"), display_id=True)\n",
    "for chunk in stream:\n",
    "    response += chunk.choices[0].delta.content or ''\n",
    "    response = response.replace(\"```\",\"\").replace(\"markdown\", \"\")\n",
    "    update_display(Markdown(response), display_id=display_handle.display_id)"
   ]
  },
  {
   "cell_type": "code",
   "execution_count": 1,
   "id": "d4dad6c6-e432-407a-af76-7035889ac065",
   "metadata": {},
   "outputs": [],
   "source": [
    "import ollama"
   ]
  },
  {
   "cell_type": "code",
   "execution_count": 2,
   "id": "6c56121e-e30c-4661-b36e-2103e82ee677",
   "metadata": {},
   "outputs": [],
   "source": [
    "messages = [\n",
    "    {\"role\": \"user\", \"content\": \"Describe some of the business applications of Generative AI\"}\n",
    "]"
   ]
  },
  {
   "cell_type": "code",
   "execution_count": 6,
   "id": "cc004a1d-0f52-466b-b259-d087045c2976",
   "metadata": {},
   "outputs": [
    {
     "data": {
      "text/markdown": [
       "<think>\n",
       "Okay, so I need to describe some business applications of Generative AI. Hmm, I'm not exactly sure what all that entails, but I'll try to think through it.\n",
       "\n",
       "First off, what is Generative AI? From what I remember, it's a type of AI that can generate content like text, images, music, or even video. It uses machine learning models, maybe something like GANs (Generative Adversarial Networks) or transformers. So it's not just about creating random stuff; it's based on patterns learned from data.\n",
       "\n",
       "Alright, so what kinds of businesses could benefit from this? Well, content creation comes to mind. Like generating text for articles or marketing copy. But wait, isn't that similar to what other AI tools do? Maybe if it's more specialized, like in a specific domain, it could be better. For example, an AI tailored for legal documents might create something more accurate than generic models.\n",
       "\n",
       "Then there's image generation. I think this is used in art or design, but also maybe in marketing with ads or social media content. It can help companies quickly generate visuals without needing human artists, which would save time and cost.\n",
       "\n",
       " augmenting data is another area. If a company has limited data, using AI to create synthetic datasets could be useful for training models without relying on external data sources. This might be especially helpful in fields like healthcare or finance where data privacy is a big concern.\n",
       "\n",
       "Personalization seems important too. Tailoring content based on individual customer behavior or preferences. Maybe something like targeted ads that change based on what the user clicks on previously. But how does Generative AI handle that? It must analyze user data and use it to inform the generation process.\n",
       "\n",
       "Marketing campaigns could benefit from this as well, perhaps creating more engaging and relevant content than traditional methods. Maybe even automating parts of campaign creation or optimizing ad copy using AI-generated variations based on performance metrics.\n",
       "\n",
       "In creative industries like gaming or film, AI could help in generating game levels or storylines. This might speed up the process and allow for more diverse outputs since the AI can explore different possibilities beyond human creativity.\n",
       "\n",
       "Translation services are another thought. While there are already translation tools, maybe a Generative AI could provide more accurate or contextually appropriate translations by learning from vast language corpora.\n",
       "\n",
       "Optimizing supply chains might be possible too. By analyzing historical data, an AI could generate forecasts or suggest optimal inventory levels, reducing waste and stockouts.\n",
       "\n",
       "Fraud detection is always a critical area for businesses. An AI that can analyze transactions in real-time to spot anomalies would be invaluable. It could detect unusual patterns more quickly than manual checks.\n",
       "\n",
       "Accessibility features like alt text generation for images on the web are useful because they make content more accessible to visually impaired users, which also helps SEO and inclusivity overall.\n",
       "\n",
       "Customer service could use this by generating responses that mimic human interactions based on templates and user behavior analysis. This would improve how chatbots respond to customer inquiries.\n",
       "\n",
       "Educational tools might incorporate AI to create personalized learning materials for students, tailoring the content to their individual needs or progress over time.\n",
       "\n",
       "I'm not sure about healthcare yet. Maybe image segmentation using AI-generated masks could help in medical imaging by identifying regions of interest more accurately than humans sometimes do.\n",
       "\n",
       "Wait, but I should check if these are all feasible and if there aren't any major challenges. For example, ensuring the generated content is accurate or safe, especially in sensitive areas like legal documents or fraud detection. Also, data privacy concerns with generating synthetic datasets could be a hurdle that needs addressing.\n",
       "\n",
       "I think I've covered several areas: content creation (text, images), marketing and sales, personalization, creative industries, translation, supply chain, fraud detection, accessibility, customer service, education, and healthcare imaging. Maybe there are more, but these seem like solid starting points.\n",
       "\n",
       "Now, to structure this into a coherent answer, I should probably list each application with a brief explanation of how Generative AI is used in that context. That way, it's clear and organized.\n",
       "</think>\n",
       "\n",
       "Generative AI offers transformative applications across various industries by leveraging its ability to create high-quality content, data augmentation, personalization, and optimization. Here are some key business applications:\n",
       "\n",
       "1. **Content Creation**: \n",
       "   - **Text Generation**: AI can craft specialized legal documents or marketing copy with precision, enhancing both accuracy and creativity.\n",
       "   - **Image Generation**: Assistive tools for artists, marketers, and designers to generate visuals quickly, reducing reliance on human talent.\n",
       "\n",
       "2. **Data Augmentation**:\n",
       "   - Create synthetic datasets to augment existing data, particularly useful in privacy-sensitive sectors like healthcare and finance for model training without external data use.\n",
       "\n",
       "3. **Personalization**:\n",
       "   - Tailor content dynamically based on user behavior and preferences, enhancing customer experience through personalized ads or marketing campaigns.\n",
       "\n",
       "4. **Marketing Campaigns**:\n",
       "   - Automate and optimize content creation, offering dynamic ad copy variations to improve engagement and effectiveness.\n",
       "\n",
       "5. **Creative Industries**:\n",
       "   - Accelerate game development by generating levels and storylines, exploring diverse creative possibilities beyond human capabilities.\n",
       "   - Enhance film production with AI-generated content for diverse and innovative storylines.\n",
       "\n",
       "6. **Translation Services**:\n",
       "   - Provide contextually appropriate translations using advanced language models, surpassing traditional tools in accuracy and relevance.\n",
       "\n",
       "7. **Supply Chain Optimization**:\n",
       "   - Analyze data to generate optimized forecasts and inventory levels, reducing waste and stockouts through intelligent predictions.\n",
       "\n",
       "8. **Fraud Detection**:\n",
       "   - Real-time transaction analysis by AI to identify anomalies, offering a proactive approach to detecting fraudulent activities quickly.\n",
       "\n",
       "9. **Accessibility**:\n",
       "   - Generate alt text for images, improving web accessibility, SEO, and inclusivity for visually impaired users.\n",
       "\n",
       "10. **Customer Service**:\n",
       "    - Enhance chatbots with AI-generated responses that reflect human-like interactions based on user behavior analysis, improving support efficiency.\n",
       "\n",
       "11. **Educational Tools**:\n",
       "    - Personalize learning materials for students by adapting content to their individual needs and progress, enhancing educational outcomes.\n",
       "\n",
       "12. **Healthcare Imaging**:\n",
       "    - Use AI to generate precise image masks for medical imaging, aiding in accurate diagnosis through improved segmentation techniques.\n",
       "\n",
       "Each application leverages Generative AI's unique capabilities, addressing challenges like accuracy, safety, and data privacy while driving innovation across sectors."
      ],
      "text/plain": [
       "<IPython.core.display.Markdown object>"
      ]
     },
     "metadata": {},
     "output_type": "display_data"
    }
   ],
   "source": [
    "MODEL_DEEPSEEK = 'deepseek-r1'\n",
    "stream = ollama.chat(model=MODEL_DEEPSEEK, messages=messages, stream=True)\n",
    " \n",
    "response = \"\"\n",
    "display_handle = display(Markdown(\"\"), display_id=True)\n",
    "for chunk in stream:\n",
    "    if 'message' in chunk:\n",
    "        content = chunk['message']['content']\n",
    "        response += content\n",
    "        response = response.replace(\"```\",\"\").replace(\"markdown\", \"\")\n",
    "        update_display(Markdown(response), display_id=display_handle.display_id)"
   ]
  },
  {
   "cell_type": "code",
   "execution_count": null,
   "id": "b8f8f5f4-7dd3-4498-a393-d189b36d7fe1",
   "metadata": {},
   "outputs": [],
   "source": []
  }
 ],
 "metadata": {
  "kernelspec": {
   "display_name": "Python 3 (ipykernel)",
   "language": "python",
   "name": "python3"
  },
  "language_info": {
   "codemirror_mode": {
    "name": "ipython",
    "version": 3
   },
   "file_extension": ".py",
   "mimetype": "text/x-python",
   "name": "python",
   "nbconvert_exporter": "python",
   "pygments_lexer": "ipython3",
   "version": "3.12.7"
  }
 },
 "nbformat": 4,
 "nbformat_minor": 5
}
