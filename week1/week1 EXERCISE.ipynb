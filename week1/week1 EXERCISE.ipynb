{
 "cells": [
  {
   "cell_type": "markdown",
   "id": "fe12c203-e6a6-452c-a655-afb8a03a4ff5",
   "metadata": {},
   "source": [
    "# End of week 1 exercise\n",
    "\n",
    "To demonstrate your familiarity with OpenAI API, and also Ollama, build a tool that takes a technical question,  \n",
    "and responds with an explanation. This is a tool that you will be able to use yourself during the course!"
   ]
  },
  {
   "cell_type": "code",
   "execution_count": 12,
   "id": "c1070317-3ed9-4659-abe3-828943230e03",
   "metadata": {},
   "outputs": [],
   "source": [
    "import anthropic\n",
    "from openai import OpenAI\n",
    "from IPython.display import Markdown, display, update_display\n",
    " "
   ]
  },
  {
   "cell_type": "code",
   "execution_count": 6,
   "id": "4a456906-915a-4bfd-bb9d-57e505c5093f",
   "metadata": {},
   "outputs": [],
   "source": [
    "MODEL_ANTHROPIC = \"claude-3-haiku-20240307\"\n",
    "MODEL_GPT = \"gpt-4o-mini\"\n",
    "MODEL_LLAMA = \"llama3.2\"\n",
    "MAX_TOKENS = 1024"
   ]
  },
  {
   "cell_type": "code",
   "execution_count": 7,
   "id": "a8d7923c-5f28-4c30-8556-342d7c8497c1",
   "metadata": {},
   "outputs": [],
   "source": [
    "# Environment is set using flake.nix"
   ]
  },
  {
   "cell_type": "code",
   "execution_count": 29,
   "id": "3f0d0137-52b0-47a8-81a8-11a90a010798",
   "metadata": {},
   "outputs": [],
   "source": [
    "system_prompt = \"\"\"\n",
    "You are an expert code reviewer specialized in python language.\n",
    "You'll receive python code and explain it in simple but comprehensive terms.\n",
    "You'll receive python code and review it for proposing better practices, suggest improvements in terms of readability and/or efficiency.\n",
    "User markdown syntax for the output response.\n",
    "\"\"\"\n",
    "\n",
    "question = \"\"\"\n",
    "Please explain what this code does and why:\n",
    "yield from {book.get(\"author\") for book in books if book.get(\"author\")}\n",
    "\"\"\""
   ]
  },
  {
   "cell_type": "code",
   "execution_count": 30,
   "id": "70dcfd01-313b-4a31-9c86-34874426ea4b",
   "metadata": {
    "scrolled": true
   },
   "outputs": [
    {
     "data": {
      "text/markdown": [
       "The code you provided is a Python generator expression that extracts the unique authors from a list of books.\n",
       "\n",
       "Here's a breakdown of the code:\n",
       "\n",
       "```python\n",
       "yield from {book.get(\"author\") for book in books if book.get(\"author\")}\n",
       "```\n",
       "\n",
       "1. `{book.get(\"author\") for book in books if book.get(\"author\")}`: This part is a set comprehension. It creates a set of unique author names from the `books` list. The `book.get(\"author\")` expression retrieves the \"author\" key from each book dictionary, and the `if book.get(\"author\")` condition ensures that only books with an author value are included.\n",
       "\n",
       "2. `yield from`: This part is a generator expression syntax. The `yield from` statement is used to delegate the generation of values to another generator. In this case, it's yielding the values from the set created in the previous step, one by one.\n",
       "\n",
       "The purpose of this code is to efficiently generate a sequence of unique author names from the `books` list. The use of a generator expression (instead of a regular list) allows the authors to be generated one at a time, which can be more memory-efficient when dealing with large datasets.\n",
       "\n",
       "This code could be used, for example, in a function that needs to provide a list of unique authors from a collection of books.\n",
       "\n",
       "Here's an example of how this code could be used:\n",
       "\n",
       "```python\n",
       "def get_unique_authors(books):\n",
       "    return list(yield from {book.get(\"author\") for book in books if book.get(\"author\")})\n",
       "\n",
       "# Example usage\n",
       "books = [\n",
       "    {\"title\": \"Book 1\", \"author\": \"John Doe\"},\n",
       "    {\"title\": \"Book 2\", \"author\": \"Jane Smith\"},\n",
       "    {\"title\": \"Book 3\", \"author\": \"John Doe\"},\n",
       "    {\"title\": \"Book 4\", \"author\": None},\n",
       "]\n",
       "\n",
       "unique_authors = get_unique_authors(books)\n",
       "print(unique_authors)  # Output: ['John Doe', 'Jane Smith']\n",
       "```\n",
       "\n",
       "In this example, the `get_unique_authors` function uses the generator expression to extract the unique authors, and the `yield from` statement to yield the values one by one. The resulting generator is then converted to a list using the `list()` function."
      ],
      "text/plain": [
       "<IPython.core.display.Markdown object>"
      ]
     },
     "execution_count": 30,
     "metadata": {},
     "output_type": "execute_result"
    }
   ],
   "source": [
    "# Get anthropic to answer\n",
    "_anthropic = anthropic.Client()\n",
    "\n",
    "messages = [\n",
    "    {\"role\": \"user\", \"content\": question}\n",
    "]\n",
    "\n",
    "response = _anthropic.messages.create(\n",
    "    model=MODEL_ANTHROPIC,\n",
    "    max_tokens=MAX_TOKENS,\n",
    "    system=system_prompt,\n",
    "    messages=messages\n",
    ")\n",
    "\n",
    "Markdown(response.content[0].text)"
   ]
  },
  {
   "cell_type": "code",
   "execution_count": 31,
   "id": "60ce7000-a4a5-4cce-a261-e75ef45063b4",
   "metadata": {
    "scrolled": true
   },
   "outputs": [
    {
     "data": {
      "text/markdown": [
       "The provided line of code is a generator expression that yields authors from a collection of books, specifically filtering out any books that do not have an author specified. Let's break it down step by step:\n",
       "\n",
       "### Explanation:\n",
       "\n",
       "1. **`{book.get(\"author\") for book in books if book.get(\"author\")}`**:\n",
       "   - This part is a set comprehension. It's creating a set of authors extracted from a list or collection called `books`.\n",
       "   - `book.get(\"author\")` retrieves the value associated with the key `\"author\"` for each `book` in `books`.\n",
       "   - The `if` condition ensures that only books with a defined `author` are considered. If a book does not have an author (i.e., `None` or not present), it is skipped.\n",
       "\n",
       "2. **`yield from`**:\n",
       "   - This part of the code is used to yield values from a generator. It effectively delegates the yielding of values to the set comprehension, allowing these values to be returned one by one from the function that contains this line.\n",
       "   - `yield from` is especially useful for yielding values from another iterable without the need for an explicit loop.\n",
       "\n",
       "### What the Code Does:\n",
       "- This line of code yields from a set of unique authors found in the `books` collection. Any books that do not have an author will be excluded, ensuring that all yielded authors are defined.\n",
       "\n",
       "### Use Case:\n",
       "- This could be used in a function that collects and processes unique authors from a large collection of books, maybe to list them or do further processing on them.\n",
       "\n",
       "### Suggestions for Improvement:\n",
       "The code is fairly concise and achieves its purpose, but there are a couple of aspects that could enhance readability and maintainability:\n",
       "\n",
       "1. **Use a List Comprehension if Duplicates Are Needed**: If the requirement is to consider multiple instances of the same author, then a list comprehension (or generator expression) would be more appropriate than a set comprehension. A list can include duplicates and retains the order of appearance.\n",
       "\n",
       "2. **Add Comments**: Consider adding comments to clarify the intention of the code. This will help other developers (or your future self) better understand the purpose of the line.\n",
       "\n",
       "3. **Function Context**: If this line is used inside a function, naming the function meaningfully and accompanying it with a docstring explaining its functionality would improve clarity.\n",
       "\n",
       "Here's a refactored version considering readability:\n",
       "\n",
       "python\n",
       "def yield_authors(books):\n",
       "    \"\"\"\n",
       "    Yield unique authors from the provided list of books.\n",
       "    \n",
       "    Args:\n",
       "        books (list): A list of dictionaries containing book information.\n",
       "    \n",
       "    Yields:\n",
       "        The unique authors from the books.\n",
       "    \"\"\"\n",
       "    unique_authors = {book.get(\"author\") for book in books if book.get(\"author\")}\n",
       "    yield from unique_authors\n",
       "\n",
       "\n",
       "### Conclusion:\n",
       "The original line of code effectively yields unique authors from the book list, but providing additional context and ensuring it fits the specific use case will improve its usefulness in a broader codebase."
      ],
      "text/plain": [
       "<IPython.core.display.Markdown object>"
      ]
     },
     "metadata": {},
     "output_type": "display_data"
    }
   ],
   "source": [
    "# Get gpt-4o-mini to answer, with streaming\n",
    "openai = OpenAI()\n",
    "\n",
    "messages = [\n",
    "    {\"role\": \"system\", \"content\": system_prompt},\n",
    "    {\"role\": \"user\", \"content\": question}\n",
    "]\n",
    "\n",
    "stream = openai.chat.completions.create(\n",
    "    model=MODEL_GPT,\n",
    "    messages=messages,\n",
    "    stream=True\n",
    ")\n",
    "    \n",
    "response = \"\"\n",
    "display_handle = display(Markdown(\"\"), display_id=True)\n",
    "for chunk in stream:\n",
    "    response += chunk.choices[0].delta.content or ''\n",
    "    response = response.replace(\"```\",\"\").replace(\"markdown\", \"\")\n",
    "    update_display(Markdown(response), display_id=display_handle.display_id)"
   ]
  },
  {
   "cell_type": "code",
   "execution_count": 32,
   "id": "8f7c8ea8-4082-4ad0-8751-3301adcf6538",
   "metadata": {
    "scrolled": true
   },
   "outputs": [
    {
     "data": {
      "text/markdown": [
       "**Code Explanation**\n",
       "\n",
       "# Code Description\n",
       "\n",
       "\n",
       "This line of code uses Python's generator feature to iterate over a list of book dictionaries, filtering out any authors that don't exist. It's using the `yield from` syntax, introduced in Python 3.3, which allows us to delegate iteration to another iterable.\n",
       "\n",
       "Here's what happens step by step:\n",
       "\n",
       "1. `{book.get(\"author\") for book in books if book.get(\"author\")}`: This is a generator expression that creates an iterator over the authors of each book.\n",
       "2. `yield from`: This keyword tells Python to delegate the iteration to the previous part of the expression.\n",
       "\n",
       "**Code Breakdown**\n",
       "python\n",
       "# Importing necessary modules (none needed for this snippet)\n",
       "import pandas as pd  # Assuming 'books' is a pandas DataFrame\n",
       "\n",
       "# Sample data\n",
       "books = pd.DataFrame({\n",
       "    \"book_id\": [1, 2, 3],\n",
       "    \"title\": [\"Book A\", \"Book B\", \"Book C\"],\n",
       "    \"author\": [\"Author X\", None, \"Author Y\"]  # Missing author for Book B\n",
       "})\n",
       "\n",
       "# Filter books with existing authors and yield them as a sequence of authors\n",
       "yield from {book.get(\"author\") for book in books if book.get(\"author\")}\n",
       "\n",
       "\n",
       "In this example, `books` is a pandas DataFrame containing information about various books. The line iterates over each row (`book`) in the DataFrame:\n",
       "\n",
       "*   If a book has an author (i.e., `\"author\"` exists), it yields that author.\n",
       "*   If a book is missing an author, it skips it.\n",
       "\n",
       "To use this generator outside of its context, you would need to assign it to a variable or process the result more explicitly. Here's an updated code snippet demonstrating this:\n",
       "\n",
       "python\n",
       "# Example usage:\n",
       "books_with_authors = list(yield from {book.get(\"author\") for book in books if book.get(\"author\")})\n",
       "\n",
       "print(books_with_authors)  # Output: ['Author X', 'Author Y']\n",
       "\n",
       "\n",
       "However, using `list(x)` on a generator can be inefficient since it first requires the entire sequence be generated before being stored.\n",
       "\n",
       "In general, use cases like this typically involve iterating over an iterable (e.g., files, books), filtering or mapping its elements, and then processing those results individually. In such situations, working directly with iterators is often more efficient than creating intermediate sequences to store the processed data."
      ],
      "text/plain": [
       "<IPython.core.display.Markdown object>"
      ]
     },
     "metadata": {},
     "output_type": "display_data"
    }
   ],
   "source": [
    "# Get Llama 3.2 to answer, with streaming\n",
    "\n",
    "ollama = OpenAI(base_url='http://localhost:11434/v1', api_key='ollama')\n",
    "\n",
    "messages = [\n",
    "    {\"role\": \"system\", \"content\": system_prompt},\n",
    "    {\"role\": \"user\", \"content\": question}\n",
    "]\n",
    "\n",
    "stream = ollama.chat.completions.create(\n",
    "    model=MODEL_LLAMA,\n",
    "    messages=messages,\n",
    "    stream=True\n",
    ")\n",
    "\n",
    "response = \"\"\n",
    "display_handle = display(Markdown(\"\"), display_id=True)\n",
    "for chunk in stream:\n",
    "    response += chunk.choices[0].delta.content or ''\n",
    "    response = response.replace(\"```\",\"\").replace(\"markdown\", \"\")\n",
    "    update_display(Markdown(response), display_id=display_handle.display_id)"
   ]
  },
  {
   "cell_type": "code",
   "execution_count": null,
   "id": "cc004a1d-0f52-466b-b259-d087045c2976",
   "metadata": {},
   "outputs": [],
   "source": []
  }
 ],
 "metadata": {
  "kernelspec": {
   "display_name": "Python 3 (ipykernel)",
   "language": "python",
   "name": "python3"
  },
  "language_info": {
   "codemirror_mode": {
    "name": "ipython",
    "version": 3
   },
   "file_extension": ".py",
   "mimetype": "text/x-python",
   "name": "python",
   "nbconvert_exporter": "python",
   "pygments_lexer": "ipython3",
   "version": "3.12.7"
  }
 },
 "nbformat": 4,
 "nbformat_minor": 5
}
