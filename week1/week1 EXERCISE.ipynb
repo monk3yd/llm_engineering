{
 "cells": [
  {
   "cell_type": "markdown",
   "id": "fe12c203-e6a6-452c-a655-afb8a03a4ff5",
   "metadata": {},
   "source": [
    "# End of week 1 exercise\n",
    "\n",
    "To demonstrate your familiarity with OpenAI API, and also Ollama, build a tool that takes a technical question,  \n",
    "and responds with an explanation. This is a tool that you will be able to use yourself during the course!"
   ]
  },
  {
   "cell_type": "code",
   "execution_count": 1,
   "id": "c1070317-3ed9-4659-abe3-828943230e03",
   "metadata": {},
   "outputs": [],
   "source": [
    "import anthropic\n",
    "from openai import OpenAI\n",
    "from IPython.display import Markdown, display, update_display\n",
    "import ollama\n",
    " "
   ]
  },
  {
   "cell_type": "code",
   "execution_count": 6,
   "id": "4a456906-915a-4bfd-bb9d-57e505c5093f",
   "metadata": {},
   "outputs": [],
   "source": [
    "MODEL_ANTHROPIC = \"claude-3-haiku-20240307\"\n",
    "MODEL_GPT = \"gpt-4o-mini\"\n",
    "MODEL_LLAMA = \"llama3.2\"\n",
    "MAX_TOKENS = 1024"
   ]
  },
  {
   "cell_type": "code",
   "execution_count": 7,
   "id": "a8d7923c-5f28-4c30-8556-342d7c8497c1",
   "metadata": {},
   "outputs": [],
   "source": [
    "# Environment is set using flake.nix"
   ]
  },
  {
   "cell_type": "code",
   "execution_count": 29,
   "id": "3f0d0137-52b0-47a8-81a8-11a90a010798",
   "metadata": {},
   "outputs": [],
   "source": [
    "system_prompt = \"\"\"\n",
    "You are an expert code reviewer specialized in python language.\n",
    "You'll receive python code and explain it in simple but comprehensive terms.\n",
    "You'll receive python code and review it for proposing better practices, suggest improvements in terms of readability and/or efficiency.\n",
    "User markdown syntax for the output response.\n",
    "\"\"\"\n",
    "\n",
    "question = \"\"\"\n",
    "Please explain what this code does and why:\n",
    "yield from {book.get(\"author\") for book in books if book.get(\"author\")}\n",
    "\"\"\""
   ]
  },
  {
   "cell_type": "code",
   "execution_count": 30,
   "id": "70dcfd01-313b-4a31-9c86-34874426ea4b",
   "metadata": {
    "scrolled": true
   },
   "outputs": [
    {
     "data": {
      "text/markdown": [
       "The code you provided is a Python generator expression that extracts the unique authors from a list of books.\n",
       "\n",
       "Here's a breakdown of the code:\n",
       "\n",
       "```python\n",
       "yield from {book.get(\"author\") for book in books if book.get(\"author\")}\n",
       "```\n",
       "\n",
       "1. `{book.get(\"author\") for book in books if book.get(\"author\")}`: This part is a set comprehension. It creates a set of unique author names from the `books` list. The `book.get(\"author\")` expression retrieves the \"author\" key from each book dictionary, and the `if book.get(\"author\")` condition ensures that only books with an author value are included.\n",
       "\n",
       "2. `yield from`: This part is a generator expression syntax. The `yield from` statement is used to delegate the generation of values to another generator. In this case, it's yielding the values from the set created in the previous step, one by one.\n",
       "\n",
       "The purpose of this code is to efficiently generate a sequence of unique author names from the `books` list. The use of a generator expression (instead of a regular list) allows the authors to be generated one at a time, which can be more memory-efficient when dealing with large datasets.\n",
       "\n",
       "This code could be used, for example, in a function that needs to provide a list of unique authors from a collection of books.\n",
       "\n",
       "Here's an example of how this code could be used:\n",
       "\n",
       "```python\n",
       "def get_unique_authors(books):\n",
       "    return list(yield from {book.get(\"author\") for book in books if book.get(\"author\")})\n",
       "\n",
       "# Example usage\n",
       "books = [\n",
       "    {\"title\": \"Book 1\", \"author\": \"John Doe\"},\n",
       "    {\"title\": \"Book 2\", \"author\": \"Jane Smith\"},\n",
       "    {\"title\": \"Book 3\", \"author\": \"John Doe\"},\n",
       "    {\"title\": \"Book 4\", \"author\": None},\n",
       "]\n",
       "\n",
       "unique_authors = get_unique_authors(books)\n",
       "print(unique_authors)  # Output: ['John Doe', 'Jane Smith']\n",
       "```\n",
       "\n",
       "In this example, the `get_unique_authors` function uses the generator expression to extract the unique authors, and the `yield from` statement to yield the values one by one. The resulting generator is then converted to a list using the `list()` function."
      ],
      "text/plain": [
       "<IPython.core.display.Markdown object>"
      ]
     },
     "execution_count": 30,
     "metadata": {},
     "output_type": "execute_result"
    }
   ],
   "source": [
    "# Get anthropic to answer\n",
    "_anthropic = anthropic.Client()\n",
    "\n",
    "messages = [\n",
    "    {\"role\": \"user\", \"content\": question}\n",
    "]\n",
    "\n",
    "response = _anthropic.messages.create(\n",
    "    model=MODEL_ANTHROPIC,\n",
    "    max_tokens=MAX_TOKENS,\n",
    "    system=system_prompt,\n",
    "    messages=messages\n",
    ")\n",
    "\n",
    "Markdown(response.content[0].text)"
   ]
  },
  {
   "cell_type": "code",
   "execution_count": 31,
   "id": "60ce7000-a4a5-4cce-a261-e75ef45063b4",
   "metadata": {
    "scrolled": true
   },
   "outputs": [
    {
     "data": {
      "text/markdown": [
       "The provided line of code is a generator expression that yields authors from a collection of books, specifically filtering out any books that do not have an author specified. Let's break it down step by step:\n",
       "\n",
       "### Explanation:\n",
       "\n",
       "1. **`{book.get(\"author\") for book in books if book.get(\"author\")}`**:\n",
       "   - This part is a set comprehension. It's creating a set of authors extracted from a list or collection called `books`.\n",
       "   - `book.get(\"author\")` retrieves the value associated with the key `\"author\"` for each `book` in `books`.\n",
       "   - The `if` condition ensures that only books with a defined `author` are considered. If a book does not have an author (i.e., `None` or not present), it is skipped.\n",
       "\n",
       "2. **`yield from`**:\n",
       "   - This part of the code is used to yield values from a generator. It effectively delegates the yielding of values to the set comprehension, allowing these values to be returned one by one from the function that contains this line.\n",
       "   - `yield from` is especially useful for yielding values from another iterable without the need for an explicit loop.\n",
       "\n",
       "### What the Code Does:\n",
       "- This line of code yields from a set of unique authors found in the `books` collection. Any books that do not have an author will be excluded, ensuring that all yielded authors are defined.\n",
       "\n",
       "### Use Case:\n",
       "- This could be used in a function that collects and processes unique authors from a large collection of books, maybe to list them or do further processing on them.\n",
       "\n",
       "### Suggestions for Improvement:\n",
       "The code is fairly concise and achieves its purpose, but there are a couple of aspects that could enhance readability and maintainability:\n",
       "\n",
       "1. **Use a List Comprehension if Duplicates Are Needed**: If the requirement is to consider multiple instances of the same author, then a list comprehension (or generator expression) would be more appropriate than a set comprehension. A list can include duplicates and retains the order of appearance.\n",
       "\n",
       "2. **Add Comments**: Consider adding comments to clarify the intention of the code. This will help other developers (or your future self) better understand the purpose of the line.\n",
       "\n",
       "3. **Function Context**: If this line is used inside a function, naming the function meaningfully and accompanying it with a docstring explaining its functionality would improve clarity.\n",
       "\n",
       "Here's a refactored version considering readability:\n",
       "\n",
       "python\n",
       "def yield_authors(books):\n",
       "    \"\"\"\n",
       "    Yield unique authors from the provided list of books.\n",
       "    \n",
       "    Args:\n",
       "        books (list): A list of dictionaries containing book information.\n",
       "    \n",
       "    Yields:\n",
       "        The unique authors from the books.\n",
       "    \"\"\"\n",
       "    unique_authors = {book.get(\"author\") for book in books if book.get(\"author\")}\n",
       "    yield from unique_authors\n",
       "\n",
       "\n",
       "### Conclusion:\n",
       "The original line of code effectively yields unique authors from the book list, but providing additional context and ensuring it fits the specific use case will improve its usefulness in a broader codebase."
      ],
      "text/plain": [
       "<IPython.core.display.Markdown object>"
      ]
     },
     "metadata": {},
     "output_type": "display_data"
    }
   ],
   "source": [
    "# Get gpt-4o-mini to answer, with streaming\n",
    "openai = OpenAI()\n",
    "\n",
    "messages = [\n",
    "    {\"role\": \"system\", \"content\": system_prompt},\n",
    "    {\"role\": \"user\", \"content\": question}\n",
    "]\n",
    "\n",
    "stream = openai.chat.completions.create(\n",
    "    model=MODEL_GPT,\n",
    "    messages=messages,\n",
    "    stream=True\n",
    ")\n",
    "    \n",
    "response = \"\"\n",
    "display_handle = display(Markdown(\"\"), display_id=True)\n",
    "for chunk in stream:\n",
    "    response += chunk.choices[0].delta.content or ''\n",
    "    response = response.replace(\"```\",\"\").replace(\"markdown\", \"\")\n",
    "    update_display(Markdown(response), display_id=display_handle.display_id)"
   ]
  },
  {
   "cell_type": "code",
   "execution_count": 32,
   "id": "8f7c8ea8-4082-4ad0-8751-3301adcf6538",
   "metadata": {
    "scrolled": true
   },
   "outputs": [
    {
     "data": {
      "text/markdown": [
       "**Code Explanation**\n",
       "\n",
       "# Code Description\n",
       "\n",
       "\n",
       "This line of code uses Python's generator feature to iterate over a list of book dictionaries, filtering out any authors that don't exist. It's using the `yield from` syntax, introduced in Python 3.3, which allows us to delegate iteration to another iterable.\n",
       "\n",
       "Here's what happens step by step:\n",
       "\n",
       "1. `{book.get(\"author\") for book in books if book.get(\"author\")}`: This is a generator expression that creates an iterator over the authors of each book.\n",
       "2. `yield from`: This keyword tells Python to delegate the iteration to the previous part of the expression.\n",
       "\n",
       "**Code Breakdown**\n",
       "python\n",
       "# Importing necessary modules (none needed for this snippet)\n",
       "import pandas as pd  # Assuming 'books' is a pandas DataFrame\n",
       "\n",
       "# Sample data\n",
       "books = pd.DataFrame({\n",
       "    \"book_id\": [1, 2, 3],\n",
       "    \"title\": [\"Book A\", \"Book B\", \"Book C\"],\n",
       "    \"author\": [\"Author X\", None, \"Author Y\"]  # Missing author for Book B\n",
       "})\n",
       "\n",
       "# Filter books with existing authors and yield them as a sequence of authors\n",
       "yield from {book.get(\"author\") for book in books if book.get(\"author\")}\n",
       "\n",
       "\n",
       "In this example, `books` is a pandas DataFrame containing information about various books. The line iterates over each row (`book`) in the DataFrame:\n",
       "\n",
       "*   If a book has an author (i.e., `\"author\"` exists), it yields that author.\n",
       "*   If a book is missing an author, it skips it.\n",
       "\n",
       "To use this generator outside of its context, you would need to assign it to a variable or process the result more explicitly. Here's an updated code snippet demonstrating this:\n",
       "\n",
       "python\n",
       "# Example usage:\n",
       "books_with_authors = list(yield from {book.get(\"author\") for book in books if book.get(\"author\")})\n",
       "\n",
       "print(books_with_authors)  # Output: ['Author X', 'Author Y']\n",
       "\n",
       "\n",
       "However, using `list(x)` on a generator can be inefficient since it first requires the entire sequence be generated before being stored.\n",
       "\n",
       "In general, use cases like this typically involve iterating over an iterable (e.g., files, books), filtering or mapping its elements, and then processing those results individually. In such situations, working directly with iterators is often more efficient than creating intermediate sequences to store the processed data."
      ],
      "text/plain": [
       "<IPython.core.display.Markdown object>"
      ]
     },
     "metadata": {},
     "output_type": "display_data"
    }
   ],
   "source": [
    "# Get Llama 3.2 to answer, with streaming\n",
    "\n",
    "ollama = OpenAI(base_url='http://localhost:11434/v1', api_key='ollama')\n",
    "\n",
    "messages = [\n",
    "    {\"role\": \"system\", \"content\": system_prompt},\n",
    "    {\"role\": \"user\", \"content\": question}\n",
    "]\n",
    "\n",
    "stream = ollama.chat.completions.create(\n",
    "    model=MODEL_LLAMA,\n",
    "    messages=messages,\n",
    "    stream=True\n",
    ")\n",
    "\n",
    "response = \"\"\n",
    "display_handle = display(Markdown(\"\"), display_id=True)\n",
    "for chunk in stream:\n",
    "    response += chunk.choices[0].delta.content or ''\n",
    "    response = response.replace(\"```\",\"\").replace(\"markdown\", \"\")\n",
    "    update_display(Markdown(response), display_id=display_handle.display_id)"
   ]
  },
  {
   "cell_type": "code",
   "execution_count": 3,
   "id": "d4dad6c6-e432-407a-af76-7035889ac065",
   "metadata": {},
   "outputs": [],
   "source": [
    "import ollama"
   ]
  },
  {
   "cell_type": "code",
   "execution_count": 4,
   "id": "6c56121e-e30c-4661-b36e-2103e82ee677",
   "metadata": {},
   "outputs": [],
   "source": [
    "messages = [\n",
    "    {\"role\": \"user\", \"content\": \"Describe some of the business applications of Generative AI\"}\n",
    "]"
   ]
  },
  {
   "cell_type": "code",
   "execution_count": 6,
   "id": "cc004a1d-0f52-466b-b259-d087045c2976",
   "metadata": {},
   "outputs": [
    {
     "data": {
      "text/markdown": [
       "<think>\n",
       "Okay, so I'm trying to figure out how generative AI can be used in businesses. I know a bit about AI but not too much about generative stuff specifically. Let me start by thinking about what generative AI is. From what I understand, it's AI that can create things like text, images, music, or even code. It uses machine learning to generate new content based on the data it's trained on.\n",
       "\n",
       "Alright, so for businesses, how would this be useful? Well, maybe in marketing they could use it to create better ads or personalized content. I've heard of chatbots before; those are definitely a part of generative AI because they can generate responses. Maybe customer service could benefit too by having more tailored support through these chatbots.\n",
       "\n",
       "In creative industries like art or design, generative AI could help by suggesting ideas or even creating visuals automatically. That sounds cool but maybe not for everyone since creativity is something that requires human touch.\n",
       "\n",
       "For e-commerce, personalized recommendations would be a big application. If the AI can analyze customer behavior and preferences, it could suggest products more accurately than traditional methods. But I wonder how accurate this really gets compared to human analysts.\n",
       "\n",
       "Healthcare might use generative AI in diagnosis or treatment planning. I think doctors need to consider many factors when making decisions, so maybe the AI can simulate different scenarios based on patient data, helping in diagnosis and treatment recommendations.\n",
       "\n",
       "Marketing could leverage this for content creation, like generating ads or blogs. But then again, wouldn't some of that be a bit repetitive? I guess if it's tailored correctly, it could save a lot of time.\n",
       "\n",
       "In human resources, maybe the AI can create job descriptions based on experience data or analyze candidate performance to offer feedback. That seems possible but might not capture all nuances since everyone is different.\n",
       "\n",
       "Education is another area where generative AI could help by creating personalized learning content for students. Tailored notes or practice problems based on individual strengths and weaknesses could be really beneficial.\n",
       "\n",
       "Legal field, specifically IP law, could use generative AI to draft patents or legal documents. It would save time but there's a risk of inaccuracies if the data it's trained on isn't comprehensive enough.\n",
       "\n",
       "Cities can plan better with generative AI for urban design or transportation systems. It might simulate different scenarios to optimize traffic flow or public services, making cities more efficient.\n",
       "\n",
       "Cities also use big data already, so integrating gen AI could enhance that by generating insights and recommendations based on existing data sets. But I'm not sure how feasible that is without specific examples.\n",
       "\n",
       "Culinary arts would be interesting too—maybe creating recipes automatically or suggesting ingredients based on flavor profiles. It could help chefs come up with new ideas quickly.\n",
       "\n",
       "Agriculture could use gen AI to analyze weather patterns, soil conditions, etc., and suggest optimal planting times or crop yields. That sounds practical for maximizing productivity.\n",
       "\n",
       "Retail might apply it in inventory management by predicting stock needs more accurately using generated insights from sales data. But again, I'm not sure how accurate that would be without human oversight.\n",
       "\n",
       "Streaming services could recommend shows or movies more precisely by analyzing viewing habits and preferences, leading to better user satisfaction with recommendations.\n",
       "\n",
       "Law enforcement might use gen AI to analyze crime patterns and suggest strategies for catching criminals, which could help in resource allocation effectively.\n",
       "\n",
       "Non-profits can utilize gen AI to create tailored fundraising materials that resonate more with their audience. It would make fundraising efforts more efficient and effective.\n",
       "\n",
       "Education is another area I mentioned earlier, but maybe also for training simulations where AI generates realistic scenarios for employees or trainees.\n",
       "\n",
       "Cities might use it to plan public art installations by simulating how people interact with different designs before they're built.\n",
       "\n",
       "Thinking about all these applications, I realize that generative AI has a wide range of uses across various industries. However, each application would need careful consideration because gen AI is still evolving and may not be ready for every task yet. Also, there are ethical considerations like privacy in data usage or the potential for biased outputs if the training data isn't diverse enough.\n",
       "\n",
       "I'm also wondering about the challenges ahead—how will businesses integrate gen AI into their workflows? It might require significant investment in technology and possibly retraining employees to use it effectively. There's also the issue of maintaining the quality as models get updated, ensuring they stay accurate and relevant over time.\n",
       "\n",
       "In terms of future trends, I think companies that adopt generative AI early might have a competitive edge, especially if they can combine it with other AI technologies or data sources. It could also lead to new business models where gen AI is a core component in how products are developed or services are delivered.\n",
       "\n",
       "Overall, while there are many possibilities for businesses using generative AI, the key will be finding the right balance between automation and human oversight to ensure that AI outputs are not only efficient but also aligned with ethical standards and user needs.\n",
       "</think>\n",
       "\n",
       "Generative AI offers a multitude of applications across various industries, each presenting unique opportunities and considerations. Here's an organized overview of its potential uses, challenges, and future implications:\n",
       "\n",
       "### Applications Across Industries\n",
       "\n",
       "1. **Marketing:**\n",
       "   - **Customer Communication:** Personalized campaigns using tailored content based on behavior and preferences.\n",
       "   - **Content Creation:** Assisting in ad creation or blog writing, though caution is needed to avoid repetition.\n",
       "\n",
       "2. **Healthcare:**\n",
       "   - **Diagnosis and Treatment:** Simulating scenarios to aid in accurate diagnoses and treatment recommendations.\n",
       "\n",
       "3. **Human Resources:**\n",
       "   - **Job Descriptions:** Generating based on experience data.\n",
       "   - **Candidate Feedback:** Analyzing performance for feedback insights.\n",
       "\n",
       "4. **Education:**\n",
       "   - **Personalized Learning:** Creating tailored content such as notes or practice problems.\n",
       "\n",
       "5. **Legal Field (IP Law):**\n",
       "   - **Document Drafting:** Assisting in patent creation or legal documents, though accuracy depends on data comprehensiveness.\n",
       "\n",
       "6. **Urban Planning and Transportation:**\n",
       "   - **Simulation Tools:** Optimizing city design and traffic systems through scenario-based simulations.\n",
       "\n",
       "7. **Culinary Arts:**\n",
       "   - **Recipe Creation:** Automatically generating recipes based on flavor profiles.\n",
       "\n",
       "8. **Agriculture:**\n",
       "   - **Optimal Practices:** Analyzing environmental data for planting times and crop yields.\n",
       "\n",
       "9. **Retail:**\n",
       "   - **Inventory Management:** Predicting stock needs using sales insights, requiring human oversight for accuracy.\n",
       "\n",
       "10. **Streaming Services:**\n",
       "    - **Recommendations:** Enhancing show/movie suggestions based on user preferences.\n",
       "\n",
       "11. **Law Enforcement:**\n",
       "    - **Crime Analysis:** Analyzing patterns to suggest effective strategies for criminal apprehension.\n",
       "\n",
       "12. **Non-profits:**\n",
       "    - **Fundraising Materials:** Creating tailored materials to resonate with the audience, improving effectiveness.\n",
       "\n",
       "### Considerations and Challenges\n",
       "\n",
       "- **Integration Challenges:** Businesses may need significant investment in technology and employee retraining.\n",
       "- **Data Privacy:** Ensuring compliance with privacy regulations while using AI for insights.\n",
       "- **Bias Concerns:** Risk of biased outputs due to non-diverse training data; efforts needed to mitigate this.\n",
       "\n",
       "### Future Trends and Implications\n",
       "\n",
       "- **Competitive Advantage:** Early adopters may gain a competitive edge by integrating gen AI with other technologies or data sources.\n",
       "- **New Business Models:** AI could become a core component in product development and service delivery.\n",
       "- **Human Oversight:** Balancing AI efficiency with human judgment to maintain ethical standards.\n",
       "\n",
       "In conclusion, generative AI holds significant potential across industries but requires careful integration and consideration of challenges like bias, privacy, and integration. As the technology evolves, companies poised to adopt gen AI effectively may see substantial benefits, fostering innovation and new business models."
      ],
      "text/plain": [
       "<IPython.core.display.Markdown object>"
      ]
     },
     "metadata": {},
     "output_type": "display_data"
    }
   ],
   "source": [
    "MODEL_DEEPSEEK = 'deepseek-r1'\n",
    "stream = ollama.chat(model=MODEL_DEEPSEEK, messages=messages, stream=True)\n",
    " \n",
    "response = \"\"\n",
    "display_handle = display(Markdown(\"\"), display_id=True)\n",
    "for chunk in stream:\n",
    "    if 'message' in chunk:\n",
    "        content = chunk['message']['content']\n",
    "        response += content\n",
    "        response = response.replace(\"```\",\"\").replace(\"markdown\", \"\")\n",
    "        update_display(Markdown(response), display_id=display_handle.display_id)"
   ]
  },
  {
   "cell_type": "code",
   "execution_count": null,
   "id": "b8f8f5f4-7dd3-4498-a393-d189b36d7fe1",
   "metadata": {},
   "outputs": [],
   "source": []
  }
 ],
 "metadata": {
  "kernelspec": {
   "display_name": "Python 3 (ipykernel)",
   "language": "python",
   "name": "python3"
  },
  "language_info": {
   "codemirror_mode": {
    "name": "ipython",
    "version": 3
   },
   "file_extension": ".py",
   "mimetype": "text/x-python",
   "name": "python",
   "nbconvert_exporter": "python",
   "pygments_lexer": "ipython3",
   "version": "3.12.7"
  }
 },
 "nbformat": 4,
 "nbformat_minor": 5
}
